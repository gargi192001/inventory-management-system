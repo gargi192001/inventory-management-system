{
  "nbformat": 4,
  "nbformat_minor": 0,
  "metadata": {
    "colab": {
      "name": "Untitled0.ipynb",
      "provenance": [],
      "collapsed_sections": []
    },
    "kernelspec": {
      "name": "python3",
      "display_name": "Python 3"
    },
    "language_info": {
      "name": "python"
    }
  },
  "cells": [
    {
      "cell_type": "code",
      "metadata": {
        "id": "ZiiwdY9wBNYD"
      },
      "source": [
        "record = { 11602259 : {\"name\": \"Ashish Jangra\" , \"Pno\": 1234, \"cgpa\": 7.5},\n",
        "           11602260 : {\"name\":\"Gurpreet Singh\" , \"Pno\": 5768, \"cgpa\": 8.2},\n",
        "           11602261 : {\"name\":\"Rishu Kumar\"    , \"Pno\": 8984, \"cgpa\": 7.8}}"
      ],
      "execution_count": 5,
      "outputs": []
    },
    {
      "cell_type": "markdown",
      "metadata": {
        "id": "4gpJuoavBn8W"
      },
      "source": [
        ""
      ]
    },
    {
      "cell_type": "markdown",
      "metadata": {
        "id": "6uQT29eYBpM6"
      },
      "source": [
        ""
      ]
    },
    {
      "cell_type": "markdown",
      "metadata": {
        "id": "M2T-DBN3Bpu4"
      },
      "source": [
        ""
      ]
    },
    {
      "cell_type": "code",
      "metadata": {
        "colab": {
          "base_uri": "https://localhost:8080/"
        },
        "id": "OmCt_HuIBqGs",
        "outputId": "8a3c95cc-e72e-4b64-eecc-ea5b734624d5"
      },
      "source": [
        "reg = 11602260\n",
        "\n",
        "print(record[reg]['name'])\n",
        "print(record[reg]['Pno'])\n",
        "print(record[reg]['cgpa'])"
      ],
      "execution_count": 8,
      "outputs": [
        {
          "output_type": "stream",
          "name": "stdout",
          "text": [
            "Gurpreet Singh\n",
            "5768\n",
            "8.2\n"
          ]
        }
      ]
    },
    {
      "cell_type": "code",
      "metadata": {
        "id": "lrqIxNpUBqZa"
      },
      "source": [
        ""
      ],
      "execution_count": 6,
      "outputs": []
    },
    {
      "cell_type": "code",
      "metadata": {
        "id": "1aXzO6inBqot"
      },
      "source": [
        ""
      ],
      "execution_count": 6,
      "outputs": []
    },
    {
      "cell_type": "code",
      "metadata": {
        "id": "sfDvv2zeBq2L"
      },
      "source": [
        ""
      ],
      "execution_count": 6,
      "outputs": []
    },
    {
      "cell_type": "code",
      "metadata": {
        "id": "AcI0uvKIBrbY"
      },
      "source": [
        ""
      ],
      "execution_count": 6,
      "outputs": []
    },
    {
      "cell_type": "code",
      "metadata": {
        "id": "_Q34eKvWBroj"
      },
      "source": [
        ""
      ],
      "execution_count": 6,
      "outputs": []
    },
    {
      "cell_type": "code",
      "metadata": {
        "id": "yJXK8NzsBr0_"
      },
      "source": [
        ""
      ],
      "execution_count": 6,
      "outputs": []
    },
    {
      "cell_type": "code",
      "metadata": {
        "id": "Zz6SB_LiBsBs"
      },
      "source": [
        ""
      ],
      "execution_count": 6,
      "outputs": []
    }
  ]
}